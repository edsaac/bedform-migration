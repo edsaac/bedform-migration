{
 "cells": [
  {
   "cell_type": "code",
   "execution_count": 1,
   "id": "80a1ae24-5999-48bb-925c-dfcf0960d660",
   "metadata": {},
   "outputs": [],
   "source": [
    "from PIL import Image, ImageOps, ImageEnhance, ImageFilter, ImageDraw\n",
    "import numpy as np\n",
    "import matplotlib.pyplot as plt\n",
    "import os, shutil\n",
    "import pandas as pd\n",
    "import lg17cam"
   ]
  },
  {
   "cell_type": "markdown",
   "id": "759ca6e1-19ed-4caf-8e6e-b8db01b887bf",
   "metadata": {},
   "source": [
    "___\n",
    "# **Image processing for sediment transport (2/3)**\n",
    "\n",
    "### Output :: Where do we want the results of the batch of photos?"
   ]
  },
  {
   "cell_type": "code",
   "execution_count": 2,
   "id": "792e47f9-9e1c-41d7-a778-243ec2f00cf1",
   "metadata": {},
   "outputs": [],
   "source": [
    "result_folders = {'PATH_FOLDER_TROUGHS' : r\"Troughs/\",\n",
    "                  'PATH_FOLDER_PEAKS'   : r\"Peaks/\", \n",
    "                  'PATH_FOLDER_ENDIMG'  : r\"Pictures/\"}\n",
    "\n",
    "## Make sure there is nothing on those foldes\n",
    "for folder in result_folders.values():\n",
    "    try: \n",
    "        shutil.rmtree(folder); os.mkdir(folder)\n",
    "    except FileNotFoundError:\n",
    "        os.mkdir(folder)"
   ]
  },
  {
   "cell_type": "markdown",
   "id": "eb280392-32fa-43ab-81bb-6b33e537ee63",
   "metadata": {},
   "source": [
    "### Input :: Point the folders with all the pictures!"
   ]
  },
  {
   "cell_type": "code",
   "execution_count": 3,
   "id": "de52e563-3abd-40a7-8796-fd9044f95825",
   "metadata": {},
   "outputs": [],
   "source": [
    "LEFT_FOLDER  = r'/home/edsaa/Documents/ClearWaterFrontlight/SmolLeft/'\n",
    "RIGHT_FOLDER = r'/home/edsaa/Documents/ClearWaterFrontlight/SmolRight/'\n",
    "\n",
    "if len(os.listdir(LEFT_FOLDER)) != len(os.listdir(RIGHT_FOLDER)):\n",
    "    print(\"Not the same number of pics on the folders!!\")"
   ]
  },
  {
   "cell_type": "markdown",
   "id": "ef4f6e8d-f4a4-40f5-a820-4c885d7676c2",
   "metadata": {
    "tags": []
   },
   "source": [
    "## Photographs metadata\n",
    "\n",
    "a.k.a. EXIF information"
   ]
  },
  {
   "cell_type": "code",
   "execution_count": 4,
   "id": "3b50f09e-8c2c-4341-b2d1-b3783c659a7c",
   "metadata": {},
   "outputs": [
    {
     "name": "stdout",
     "output_type": "stream",
     "text": [
      "IMAGE :: /home/edsaa/Documents/ClearWaterFrontlight/SmolLeft/DSC_0929.JPG\n",
      "\n",
      "( 34853) GPSInfo                  : 15236\n",
      "(   296) ResolutionUnit           : 2\n",
      "( 34665) ExifOffset               : 228\n",
      "(   271) Make                     : NIKON CORPORATION\n",
      "(   272) Model                    : NIKON D5300\n",
      "(   305) Software                 : Ver.1.03 \n",
      "(   274) Orientation              : 1\n",
      "(   306) DateTime                 : 2021:10:02 20:01:32\n",
      "(   531) YCbCrPositioning         : 1\n",
      "(   282) XResolution              : 300.0\n",
      "(   283) YResolution              : 300.0\n"
     ]
    }
   ],
   "source": [
    "from PIL.ExifTags import TAGS\n",
    "from random import choice\n",
    "\n",
    "## Pick a random image \n",
    "path = os.path.join(LEFT_FOLDER,choice(os.listdir(LEFT_FOLDER)))\n",
    "img = Image.open(path)\n",
    "exifdata = img.getexif()\n",
    "\n",
    "print(f\"IMAGE :: {path}\\n\")\n",
    "for tag_id in exifdata:\n",
    "    tag = TAGS.get(tag_id, tag_id)\n",
    "    data = exifdata.get(tag_id)\n",
    "    if isinstance(data, bytes): data = data.decode()\n",
    "    print(f\"({tag_id:6}) {tag:25}: {data}\")"
   ]
  },
  {
   "cell_type": "markdown",
   "id": "b50a6a1a-cd92-4807-9a31-888394ecea94",
   "metadata": {
    "tags": []
   },
   "source": [
    "## Create a pictures batabase\n",
    "\n",
    "We will use the DateTime field from the metadata to make sure they are sorted. "
   ]
  },
  {
   "cell_type": "code",
   "execution_count": 5,
   "id": "f9219f88-f56a-4c30-b495-96e14bb6a171",
   "metadata": {},
   "outputs": [
    {
     "data": {
      "text/plain": [
       "<AxesSubplot:>"
      ]
     },
     "execution_count": 5,
     "metadata": {},
     "output_type": "execute_result"
    },
    {
     "data": {
      "image/png": "[encoded data removed]",
      "text/plain": [
       "<Figure size 432x288 with 1 Axes>"
      ]
     },
     "metadata": {
      "needs_background": "light"
     },
     "output_type": "display_data"
    }
   ],
   "source": [
    "# Organize lefts\n",
    "leftPhotos = lg17cam.getDatabasePics(LEFT_FOLDER)\n",
    "leftPhotos.plot()"
   ]
  },
  {
   "cell_type": "code",
   "execution_count": 6,
   "id": "69213103-8549-47e4-bb51-0ad1466edf6c",
   "metadata": {},
   "outputs": [
    {
     "data": {
      "text/plain": [
       "<AxesSubplot:>"
      ]
     },
     "execution_count": 6,
     "metadata": {},
     "output_type": "execute_result"
    },
    {
     "data": {
      "image/png": "[encoded data removed]",
      "text/plain": [
       "<Figure size 432x288 with 1 Axes>"
      ]
     },
     "metadata": {
      "needs_background": "light"
     },
     "output_type": "display_data"
    }
   ],
   "source": [
    "rightPhotos = lg17cam.getDatabasePics(RIGHT_FOLDER)\n",
    "rightPhotos.plot()"
   ]
  },
  {
   "cell_type": "code",
   "execution_count": 7,
   "id": "0c3d10ff-d6c3-4a5e-8528-debe737f6dea",
   "metadata": {},
   "outputs": [],
   "source": [
    "## Create a list of filepath pairs\n",
    "Paths = [(os.path.join(LEFT_FOLDER,l),os.path.join(RIGHT_FOLDER+r))\n",
    "         for l,r in zip(leftPhotos['File'],rightPhotos['File'])]"
   ]
  },
  {
   "cell_type": "markdown",
   "id": "77b07ab4-e25f-45ad-aa98-b8740560bddc",
   "metadata": {
    "tags": []
   },
   "source": [
    "____\n",
    "## Analyze all picture pairs\n",
    "\n",
    "We could use a `for` loop to analyze each pair of pictures but that will be slow. "
   ]
  },
  {
   "cell_type": "raw",
   "id": "0dd86185-57dd-45d4-a7cf-08de756f694b",
   "metadata": {},
   "source": [
    "for (l,r) in Paths:\n",
    "    lg17cam.processPair(l, r,result_folders)"
   ]
  },
  {
   "cell_type": "markdown",
   "id": "c17320c1-a4a0-42ef-ac3e-ffafdbc51152",
   "metadata": {
    "tags": []
   },
   "source": [
    "But we'll run these tasks in parallel with ```concurrent```, that way we avoid running them sequentally! "
   ]
  },
  {
   "cell_type": "code",
   "execution_count": 8,
   "id": "77e47fbd-7eeb-4d41-a614-ec5e3c452f69",
   "metadata": {
    "tags": []
   },
   "outputs": [],
   "source": [
    "import concurrent.futures\n",
    "from concurrent.futures import ThreadPoolExecutor\n",
    "\n",
    "## How many threads to use??\n",
    "N_PROCS = 24\n",
    "\n",
    "## Run with multithreading \n",
    "with ThreadPoolExecutor(max_workers=N_PROCS) as executor:          \n",
    "    future = {executor.submit(lg17cam.processPair, l, r,result_folders): i for i,(l,r) in enumerate(Paths)}\n",
    "        \n",
    "    for f in concurrent.futures.as_completed(future):\n",
    "        f.result()"
   ]
  },
  {
   "cell_type": "code",
   "execution_count": 9,
   "id": "f206d0ea-4ca6-46f9-af32-02edbdcb42cc",
   "metadata": {
    "tags": []
   },
   "outputs": [],
   "source": [
    "## Get results in single file of Troughs and Peaks\n",
    "PATH_TO_TROUGHS = r\"allTroughs.csv\"\n",
    "PATH_TO_PEAKS   = r\"allPeaks.csv\"\n",
    "\n",
    "for k,fout in zip(['PATH_FOLDER_TROUGHS','PATH_FOLDER_PEAKS'],[PATH_TO_TROUGHS,PATH_TO_PEAKS]):\n",
    "    files = os.listdir(result_folders[k])\n",
    "    files.sort()\n",
    "    paths = [os.path.join(result_folders[k],f) for f in files]\n",
    "    lg17cam.catFolder(paths,fout)"
   ]
  },
  {
   "cell_type": "markdown",
   "id": "5593a4e1-f7e5-43dd-bf81-69847a4018e6",
   "metadata": {},
   "source": [
    "## Create a movie\n",
    "\n",
    "```\n",
    "cat *.JPG | ffmpeg -f image2pipe -r $FRAMERATE -vcodec mjpeg -i - -vcodec libx264 out.mp4\n",
    "```"
   ]
  },
  {
   "cell_type": "code",
   "execution_count": null,
   "id": "9ae6e95d-dd63-4e42-8ade-7814dea32cf5",
   "metadata": {},
   "outputs": [],
   "source": []
  }
 ],
 "metadata": {
  "kernelspec": {
   "display_name": "Python 3 (ipykernel)",
   "language": "python",
   "name": "python3"
  },
  "language_info": {
   "codemirror_mode": {
    "name": "ipython",
    "version": 3
   },
   "file_extension": ".py",
   "mimetype": "text/x-python",
   "name": "python",
   "nbconvert_exporter": "python",
   "pygments_lexer": "ipython3",
   "version": "3.8.10"
  }
 },
 "nbformat": 4,
 "nbformat_minor": 5
}
